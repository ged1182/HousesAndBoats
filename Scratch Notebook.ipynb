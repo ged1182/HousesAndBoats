{
 "cells": [
  {
   "cell_type": "code",
   "execution_count": 1,
   "metadata": {},
   "outputs": [],
   "source": [
    "import numpy as np"
   ]
  },
  {
   "cell_type": "code",
   "execution_count": 17,
   "metadata": {},
   "outputs": [],
   "source": [
    "def conv_out_size(in_size, kernel_sizes=[9, 9], paddings=[0, 0], strides=[1, 2]):\n",
    "    h, w = in_size\n",
    "    print(h)\n",
    "    print(w)\n",
    "    for i in range(len(kernel_sizes)):\n",
    "        k = kernel_sizes[i]\n",
    "        p = paddings[i]\n",
    "        s = strides[i]\n",
    "        h = int(np.floor((h + 2*p - k)/s + 1))\n",
    "        w = int(np.floor((w + 2*p - k)/s + 1))\n",
    "    return h, w"
   ]
  },
  {
   "cell_type": "code",
   "execution_count": 18,
   "metadata": {},
   "outputs": [
    {
     "name": "stdout",
     "output_type": "stream",
     "text": [
      "128\n",
      "128\n"
     ]
    },
    {
     "data": {
      "text/plain": [
       "(56, 56)"
      ]
     },
     "execution_count": 18,
     "metadata": {},
     "output_type": "execute_result"
    }
   ],
   "source": [
    "conv_out_size([128,128])"
   ]
  },
  {
   "cell_type": "code",
   "execution_count": 19,
   "metadata": {},
   "outputs": [],
   "source": [
    "def max_pool_out_size(in_size, nb_max_pool_layers=2):\n",
    "    h, w = in_size\n",
    "    for i in range(nb_max_pool_layers):\n",
    "        h = int(np.floor((h - 2)/2 + 1))\n",
    "        w = int(np.floor((w - 2)/2 + 1))\n",
    "    return h, w"
   ]
  },
  {
   "cell_type": "code",
   "execution_count": 20,
   "metadata": {},
   "outputs": [
    {
     "data": {
      "text/plain": [
       "(7, 7)"
      ]
     },
     "execution_count": 20,
     "metadata": {},
     "output_type": "execute_result"
    }
   ],
   "source": [
    "max_pool_out_size([28,28])"
   ]
  },
  {
   "cell_type": "code",
   "execution_count": null,
   "metadata": {},
   "outputs": [],
   "source": []
  }
 ],
 "metadata": {
  "kernelspec": {
   "display_name": "Python 3",
   "language": "python",
   "name": "python3"
  },
  "language_info": {
   "codemirror_mode": {
    "name": "ipython",
    "version": 3
   },
   "file_extension": ".py",
   "mimetype": "text/x-python",
   "name": "python",
   "nbconvert_exporter": "python",
   "pygments_lexer": "ipython3",
   "version": "3.7.3"
  }
 },
 "nbformat": 4,
 "nbformat_minor": 2
}
