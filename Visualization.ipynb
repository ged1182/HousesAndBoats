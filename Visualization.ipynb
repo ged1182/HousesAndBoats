{
 "cells": [
  {
   "cell_type": "code",
   "execution_count": 109,
   "metadata": {},
   "outputs": [],
   "source": [
    "import CapsNet\n",
    "import numpy as np\n",
    "from torchvision.transforms import ToPILImage\n",
    "import os\n",
    "import matplotlib.pyplot as plt"
   ]
  },
  {
   "cell_type": "code",
   "execution_count": 110,
   "metadata": {},
   "outputs": [
    {
     "data": {
      "text/plain": [
       "['.git',\n",
       " '.gitattributes',\n",
       " '.gitignore',\n",
       " '.idea',\n",
       " '.ipynb_checkpoints',\n",
       " 'Baseline_CNN_Model.py',\n",
       " 'CapsNet.py',\n",
       " 'data',\n",
       " 'HB_Capsnet_R_trained_model',\n",
       " 'HB_Capsnet_trained_model',\n",
       " 'HB_Colored_Capsnet_R_trained_model',\n",
       " 'HB_Colored_Capsnet_trained_model',\n",
       " 'Images',\n",
       " 'Logs',\n",
       " 'README.md',\n",
       " 'Trained_Models',\n",
       " 'utils.py',\n",
       " 'Visualization.ipynb',\n",
       " '__pycache__']"
      ]
     },
     "execution_count": 110,
     "metadata": {},
     "output_type": "execute_result"
    }
   ],
   "source": [
    "os.listdir()"
   ]
  },
  {
   "cell_type": "code",
   "execution_count": 124,
   "metadata": {},
   "outputs": [
    {
     "name": "stdout",
     "output_type": "stream",
     "text": [
      "Dataset: HB_Colored\n",
      "Training Examples:  16,384\n",
      "Validation Examples:  2,048\n"
     ]
    }
   ],
   "source": [
    "model = CapsNet.CapsNet.load_from_checkpoint('./HB_Colored_Capsnet_R_trained_model/checkpoints/_ckpt_epoch_32.ckpt')"
   ]
  },
  {
   "cell_type": "code",
   "execution_count": 125,
   "metadata": {},
   "outputs": [],
   "source": [
    "val_dataloader = model.val_dataloader()[0]"
   ]
  },
  {
   "cell_type": "code",
   "execution_count": 126,
   "metadata": {},
   "outputs": [
    {
     "data": {
      "text/plain": [
       "['boat', 'house', 'rectangle', 'triangle']"
      ]
     },
     "execution_count": 126,
     "metadata": {},
     "output_type": "execute_result"
    }
   ],
   "source": [
    "val_dataloader.dataset.classes"
   ]
  },
  {
   "cell_type": "code",
   "execution_count": 127,
   "metadata": {},
   "outputs": [],
   "source": [
    "x, y = next(iter(val_dataloader))\n",
    "x, y = x[:10], y[:10]"
   ]
  },
  {
   "cell_type": "code",
   "execution_count": 128,
   "metadata": {},
   "outputs": [],
   "source": [
    "images = [ToPILImage()(img) for img in x]\n",
    "labels = [val_dataloader.dataset.classes[label] for label in y]"
   ]
  },
  {
   "cell_type": "code",
   "execution_count": 129,
   "metadata": {},
   "outputs": [],
   "source": [
    "output = model(x, y)"
   ]
  },
  {
   "cell_type": "code",
   "execution_count": 130,
   "metadata": {},
   "outputs": [],
   "source": [
    "predictions = output['predictions']\n",
    "reconstructions = output['reconstructions']\n",
    "reconstructions = reconstructions.view(x.shape)"
   ]
  },
  {
   "cell_type": "code",
   "execution_count": 131,
   "metadata": {},
   "outputs": [],
   "source": [
    "recon_images = [ToPILImage()(recon) for recon in reconstructions]"
   ]
  },
  {
   "cell_type": "code",
   "execution_count": 138,
   "metadata": {},
   "outputs": [
    {
     "data": {
      "image/png": "[encoded data removed]",
      "text/plain": [
       "<Figure size 432x288 with 1 Axes>"
      ]
     },
     "metadata": {
      "needs_background": "light"
     },
     "output_type": "display_data"
    }
   ],
   "source": [
    "i=1\n",
    "# plt.imshow(images[i])\n",
    "plt.imshow(recon_images[i])\n",
    "plt.title(str(labels[i]))\n",
    "plt.show()"
   ]
  },
  {
   "cell_type": "code",
   "execution_count": 133,
   "metadata": {},
   "outputs": [],
   "source": [
    "class_caps = output['class_caps']"
   ]
  },
  {
   "cell_type": "code",
   "execution_count": 134,
   "metadata": {},
   "outputs": [
    {
     "data": {
      "text/plain": [
       "tensor([[ 1.4572e-02, -9.6330e-03, -2.2168e-02, -3.6094e-02,  1.8007e-02,\n",
       "          1.5506e-02, -3.9893e-03, -6.8560e-03,  1.9506e-04,  6.9383e-03,\n",
       "         -1.6013e-02, -9.4074e-03, -2.8562e-02,  5.0310e-02,  1.8067e-02,\n",
       "         -3.0348e-04],\n",
       "        [ 2.0833e-01,  3.6877e-01, -1.1849e-01,  2.6815e-01, -1.7221e-01,\n",
       "         -3.0348e-01, -1.9057e-02,  1.4403e-01,  2.7490e-01, -2.9794e-01,\n",
       "          2.1297e-02, -2.3902e-01, -2.0207e-02,  1.4107e-01, -3.8044e-01,\n",
       "         -2.2289e-01],\n",
       "        [-3.6285e-04,  1.7643e-02,  1.2123e-02,  1.2673e-03,  1.4854e-02,\n",
       "          1.6846e-02, -5.2621e-03, -7.4441e-05,  1.6353e-02, -5.0152e-04,\n",
       "          1.3469e-02,  5.2659e-03,  3.7179e-03, -1.3155e-02, -2.0190e-03,\n",
       "          3.7363e-03],\n",
       "        [ 9.8336e-03, -3.9610e-02, -1.0120e-03,  2.5636e-02, -1.0615e-02,\n",
       "          2.2143e-02,  3.3469e-02,  1.5241e-02, -5.6018e-03, -2.3861e-02,\n",
       "          1.7739e-02,  1.7119e-02, -5.4141e-03, -5.9639e-03,  1.9896e-02,\n",
       "          8.8323e-03]], grad_fn=<SelectBackward>)"
      ]
     },
     "execution_count": 134,
     "metadata": {},
     "output_type": "execute_result"
    }
   ],
   "source": [
    "class_caps[0]"
   ]
  },
  {
   "cell_type": "code",
   "execution_count": 135,
   "metadata": {},
   "outputs": [],
   "source": [
    "class_probs = output['class_probs']"
   ]
  },
  {
   "cell_type": "code",
   "execution_count": 137,
   "metadata": {},
   "outputs": [
    {
     "data": {
      "text/plain": [
       "tensor([[0.0824, 0.9192, 0.0409, 0.0776],\n",
       "        [0.1130, 0.1589, 0.0920, 0.9211],\n",
       "        [0.1115, 0.8878, 0.1268, 0.0793],\n",
       "        [0.1935, 0.8647, 0.1415, 0.0689],\n",
       "        [0.1067, 0.0757, 0.8486, 0.0730],\n",
       "        [0.0497, 0.8779, 0.0797, 0.0256],\n",
       "        [0.9220, 0.1250, 0.0508, 0.0757],\n",
       "        [0.0483, 0.0907, 0.5095, 0.7533],\n",
       "        [0.2005, 0.1792, 0.1112, 0.8920],\n",
       "        [0.2008, 0.1229, 0.0350, 0.8788]], grad_fn=<SqrtBackward>)"
      ]
     },
     "execution_count": 137,
     "metadata": {},
     "output_type": "execute_result"
    }
   ],
   "source": [
    "class_probs"
   ]
  },
  {
   "cell_type": "code",
   "execution_count": 108,
   "metadata": {},
   "outputs": [
    {
     "data": {
      "text/plain": [
       "['boat', 'house', 'rectangle', 'triangle']"
      ]
     },
     "execution_count": 108,
     "metadata": {},
     "output_type": "execute_result"
    }
   ],
   "source": [
    "val_dataloader.dataset.classes"
   ]
  },
  {
   "cell_type": "code",
   "execution_count": null,
   "metadata": {},
   "outputs": [],
   "source": []
  }
 ],
 "metadata": {
  "kernelspec": {
   "display_name": "Python 3",
   "language": "python",
   "name": "python3"
  },
  "language_info": {
   "codemirror_mode": {
    "name": "ipython",
    "version": 3
   },
   "file_extension": ".py",
   "mimetype": "text/x-python",
   "name": "python",
   "nbconvert_exporter": "python",
   "pygments_lexer": "ipython3",
   "version": "3.7.5"
  }
 },
 "nbformat": 4,
 "nbformat_minor": 2
}
