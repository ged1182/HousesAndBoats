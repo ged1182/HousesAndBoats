{
 "cells": [
  {
   "cell_type": "code",
   "execution_count": 2,
   "metadata": {
    "pycharm": {
     "is_executing": false
    }
   },
   "outputs": [
    {
     "name": "stdout",
     "output_type": "stream",
     "text": [
      "cpu\n"
     ]
    }
   ],
   "source": [
    "import numpy as np\n",
    "import torch\n",
    "import torchvision\n",
    "from torch.utils.data import DataLoader\n",
    "import torchvision.datasets as datasets\n",
    "import torch.nn.functional as F\n",
    "import os\n",
    "import importlib\n",
    "import utils\n",
    "import matplotlib.pyplot as plt\n",
    "import Baseline_CNN_Model\n",
    "from pytorch_lightning import Trainer\n",
    "data_dir =\"./data\"\n",
    "logs_dir = \"./Logs/BaselineCNNModel\"\n",
    "device = torch.device('cuda:0' if torch.cuda.is_available() else 'cpu')\n",
    "print(device.type)"
   ]
  },
  {
   "cell_type": "code",
   "execution_count": 3,
   "metadata": {
    "pycharm": {
     "is_executing": false,
     "name": "#%%\n"
    }
   },
   "outputs": [
    {
     "data": {
      "text/plain": [
       "<module 'Baseline_CNN_Model' from 'C:\\\\Users\\\\ged11\\\\Dropbox\\\\0 TUM\\\\Deep Learning Seminar\\\\HousesAndBoats\\\\Baseline_CNN_Model.py'>"
      ]
     },
     "execution_count": 3,
     "metadata": {},
     "output_type": "execute_result"
    }
   ],
   "source": [
    "importlib.reload(utils)\n",
    "importlib.reload(Baseline_CNN_Model)"
   ]
  },
  {
   "cell_type": "code",
   "execution_count": 4,
   "metadata": {
    "pycharm": {
     "is_executing": false
    }
   },
   "outputs": [],
   "source": [
    "mnist_train = datasets.MNIST(root='./data',train=True,transform=torchvision.transforms.ToTensor(),\n",
    "                            target_transform=None,download=True)\n",
    "mnist_test = datasets.MNIST(root = './data', train=False,transform=torchvision.transforms.ToTensor(),\n",
    "                           target_transform=None,download=True)"
   ]
  },
  {
   "cell_type": "code",
   "execution_count": 13,
   "metadata": {
    "pycharm": {
     "is_executing": false
    }
   },
   "outputs": [],
   "source": [
    "model = Baseline_CNN_Model.BaselineCNNModel(train_dataset=mnist_train,testing_dataset=mnist_test,input_size=[1,28,28])\n"
   ]
  },
  {
   "cell_type": "code",
   "execution_count": 6,
   "metadata": {
    "pycharm": {
     "is_executing": false
    }
   },
   "outputs": [
    {
     "data": {
      "text/plain": [
       "35445522"
      ]
     },
     "execution_count": 6,
     "metadata": {},
     "output_type": "execute_result"
    }
   ],
   "source": [
    "utils.count_parameters(model)"
   ]
  },
  {
   "cell_type": "code",
   "execution_count": 10,
   "metadata": {
    "pycharm": {
     "is_executing": false
    }
   },
   "outputs": [],
   "source": [
    "trainer = Trainer(overfit_pct=0.005, default_save_path=logs_dir)\n",
    "# trainer=Trainer(overfit_pct=0.01,gpus=1,default_save_path=logs_dir)"
   ]
  },
  {
   "cell_type": "code",
   "execution_count": 14,
   "metadata": {
    "pycharm": {
     "is_executing": false
    }
   },
   "outputs": [
    {
     "name": "stderr",
     "output_type": "stream",
     "text": [
      "INFO:root:            Name        Type Params\n",
      "0       features  Sequential    2 M\n",
      "1     features.0      Conv2d    6 K\n",
      "2     features.1        ReLU    0  \n",
      "3     features.2      Conv2d    1 M\n",
      "4     features.3        ReLU    0  \n",
      "5     features.4      Conv2d  819 K\n",
      "6     features.5        ReLU    0  \n",
      "7     classifier  Sequential   32 M\n",
      "8   classifier.0      Linear   32 M\n",
      "9   classifier.1        ReLU    0  \n",
      "10  classifier.2      Linear   63 K\n",
      "11  classifier.3        ReLU    0  \n",
      "12  classifier.4     Dropout    0  \n",
      "13  classifier.5      Linear    1 K\n",
      "INFO:root:model and trainer restored from checkpoint: ./Logs/BaselineCNNModel\\lightning_logs\\version_0\\checkpoints\\_ckpt_epoch_3.ckpt\n",
      "Epoch 3:  94%|█████████▍| 16/17 [00:55<00:02,  2.85s/batch, batch_nb=15, loss=62467758.838, v_nb=0]\n",
      "Validating:   0%|          | 0/1 [00:00<?, ?batch/s]\u001b[A\n",
      "Epoch 3: 100%|██████████| 17/17 [00:57<00:00,  2.69s/batch, batch_nb=15, loss=62467758.838, v_nb=0]\n",
      "Epoch 3: : 18batch [01:01,  3.39s/batch, batch_nb=16, loss=61732844.056, v_nb=0]                   \n"
     ]
    },
    {
     "data": {
      "text/plain": [
       "1"
      ]
     },
     "execution_count": 14,
     "metadata": {},
     "output_type": "execute_result"
    }
   ],
   "source": [
    "trainer.fit(model)\n",
    "\n"
   ]
  },
  {
   "cell_type": "code",
   "execution_count": null,
   "metadata": {
    "pycharm": {
     "name": "#%%\n"
    }
   },
   "outputs": [],
   "source": [
    "\n"
   ]
  }
 ],
 "metadata": {
  "kernelspec": {
   "display_name": "Python 3",
   "language": "python",
   "name": "python3"
  },
  "language_info": {
   "codemirror_mode": {
    "name": "ipython",
    "version": 3
   },
   "file_extension": ".py",
   "mimetype": "text/x-python",
   "name": "python",
   "nbconvert_exporter": "python",
   "pygments_lexer": "ipython3",
   "version": "3.7.5"
  },
  "pycharm": {
   "stem_cell": {
    "cell_type": "raw",
    "metadata": {
     "collapsed": false
    },
    "source": []
   }
  }
 },
 "nbformat": 4,
 "nbformat_minor": 1
}
