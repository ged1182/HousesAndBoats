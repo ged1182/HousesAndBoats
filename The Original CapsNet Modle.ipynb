{
 "cells": [
  {
   "cell_type": "code",
   "execution_count": 358,
   "metadata": {},
   "outputs": [
    {
     "name": "stdout",
     "output_type": "stream",
     "text": [
      "cpu\n"
     ]
    }
   ],
   "source": [
    "import numpy as np\n",
    "import torch\n",
    "import torchvision\n",
    "import torchvision.datasets as datasets\n",
    "from torch.utils.data.sampler import SubsetRandomSampler\n",
    "import torch.utils.data.dataloader\n",
    "from torch.nn.functional import softmax\n",
    "from torch.nn import CrossEntropyLoss\n",
    "from torch.optim import Adam\n",
    "import models\n",
    "import os\n",
    "import importlib\n",
    "import utils\n",
    "import matplotlib.pyplot as plt\n",
    "data_dir =\"./data\"\n",
    "device = torch.device('cuda:0' if torch.cuda.is_available() else 'cpu')\n",
    "print(device)"
   ]
  },
  {
   "cell_type": "code",
   "execution_count": 344,
   "metadata": {},
   "outputs": [
    {
     "data": {
      "text/plain": [
       "<module 'utils' from 'C:\\\\Users\\\\ged11\\\\Dropbox\\\\0 TUM\\\\Deep Learning Seminar\\\\HousesAndBoats\\\\utils.py'>"
      ]
     },
     "execution_count": 344,
     "metadata": {},
     "output_type": "execute_result"
    }
   ],
   "source": [
    "importlib.reload(models)\n",
    "importlib.reload(utils)"
   ]
  },
  {
   "cell_type": "code",
   "execution_count": 333,
   "metadata": {},
   "outputs": [],
   "source": [
    "mnist_train = datasets.MNIST(root='./data',train=True,transform=torchvision.transforms.ToTensor(),\n",
    "                            target_transform=None,download=True)\n",
    "mnist_test = datasets.MNIST(root = './data', train=False,transform=torchvision.transforms.ToTensor(),\n",
    "                           target_transform=None,download=True)"
   ]
  },
  {
   "cell_type": "code",
   "execution_count": 373,
   "metadata": {
    "pycharm": {
     "name": "#%%\n"
    }
   },
   "outputs": [],
   "source": [
    "np.random.seed(143)\n",
    "indices=np.arange(len(mnist_train))\n",
    "indices = np.random.permutation(indices)\n",
    "train_indices = indices[0:1000]\n",
    "val_indices = indices[50000:]\n",
    "mnist_train_loader = torch.utils.data.DataLoader(mnist_train,batch_size=16,\n",
    "                                                sampler=SubsetRandomSampler(train_indices),\n",
    "                                                num_workers=4)\n",
    "mnist_val_loader = torch.utils.data.DataLoader(mnist_train, batch_size=16,\n",
    "                                              sampler=SubsetRandomSampler(val_indices),\n",
    "                                              num_workers=4)"
   ]
  },
  {
   "cell_type": "code",
   "execution_count": 375,
   "metadata": {},
   "outputs": [],
   "source": [
    "model = models.CapsNet([1,28,28],10,3)"
   ]
  },
  {
   "cell_type": "code",
   "execution_count": 370,
   "metadata": {},
   "outputs": [],
   "source": [
    "images, targets = iter(mnist_train_loader).next()"
   ]
  },
  {
   "cell_type": "code",
   "execution_count": 371,
   "metadata": {},
   "outputs": [],
   "source": [
    "outputs = model(images)"
   ]
  },
  {
   "cell_type": "code",
   "execution_count": 363,
   "metadata": {},
   "outputs": [
    {
     "data": {
      "text/plain": [
       "torch.Size([8, 10])"
      ]
     },
     "execution_count": 363,
     "metadata": {},
     "output_type": "execute_result"
    }
   ],
   "source": [
    "outputs.shape"
   ]
  },
  {
   "cell_type": "code",
   "execution_count": 364,
   "metadata": {},
   "outputs": [
    {
     "data": {
      "text/plain": [
       "torch.Size([8, 10])"
      ]
     },
     "execution_count": 364,
     "metadata": {},
     "output_type": "execute_result"
    }
   ],
   "source": [
    "torch.softmax(outputs,dim=1).shape"
   ]
  },
  {
   "cell_type": "code",
   "execution_count": 380,
   "metadata": {},
   "outputs": [
    {
     "name": "stdout",
     "output_type": "stream",
     "text": [
      "Epoch 1; Training Loss 2.1713; Training Accuracy 0.3700\n"
     ]
    },
    {
     "ename": "KeyboardInterrupt",
     "evalue": "",
     "output_type": "error",
     "traceback": [
      "\u001b[1;31m---------------------------------------------------------------------------\u001b[0m",
      "\u001b[1;31mKeyboardInterrupt\u001b[0m                         Traceback (most recent call last)",
      "\u001b[1;32m<ipython-input-380-7658b470db55>\u001b[0m in \u001b[0;36m<module>\u001b[1;34m\u001b[0m\n\u001b[0;32m     21\u001b[0m         \u001b[0mscores\u001b[0m \u001b[1;33m=\u001b[0m \u001b[0mmodel\u001b[0m\u001b[1;33m.\u001b[0m\u001b[0mforward\u001b[0m\u001b[1;33m(\u001b[0m\u001b[0msamples\u001b[0m\u001b[1;33m)\u001b[0m\u001b[1;33m\u001b[0m\u001b[1;33m\u001b[0m\u001b[0m\n\u001b[0;32m     22\u001b[0m         \u001b[0mloss\u001b[0m \u001b[1;33m=\u001b[0m \u001b[0mloss_fn\u001b[0m\u001b[1;33m(\u001b[0m\u001b[0mscores\u001b[0m\u001b[1;33m,\u001b[0m \u001b[0mtargets\u001b[0m\u001b[1;33m)\u001b[0m\u001b[1;33m\u001b[0m\u001b[1;33m\u001b[0m\u001b[0m\n\u001b[1;32m---> 23\u001b[1;33m         \u001b[0mloss\u001b[0m\u001b[1;33m.\u001b[0m\u001b[0mbackward\u001b[0m\u001b[1;33m(\u001b[0m\u001b[1;33m)\u001b[0m\u001b[1;33m\u001b[0m\u001b[1;33m\u001b[0m\u001b[0m\n\u001b[0m\u001b[0;32m     24\u001b[0m         \u001b[0moptimizer\u001b[0m\u001b[1;33m.\u001b[0m\u001b[0mstep\u001b[0m\u001b[1;33m(\u001b[0m\u001b[1;33m)\u001b[0m\u001b[1;33m\u001b[0m\u001b[1;33m\u001b[0m\u001b[0m\n\u001b[0;32m     25\u001b[0m         \u001b[0mbatch_losses\u001b[0m\u001b[1;33m.\u001b[0m\u001b[0mappend\u001b[0m\u001b[1;33m(\u001b[0m\u001b[0mloss\u001b[0m\u001b[1;33m.\u001b[0m\u001b[0mitem\u001b[0m\u001b[1;33m(\u001b[0m\u001b[1;33m)\u001b[0m\u001b[1;33m)\u001b[0m\u001b[1;33m\u001b[0m\u001b[1;33m\u001b[0m\u001b[0m\n",
      "\u001b[1;32m~\\Anaconda3\\lib\\site-packages\\torch\\tensor.py\u001b[0m in \u001b[0;36mbackward\u001b[1;34m(self, gradient, retain_graph, create_graph)\u001b[0m\n\u001b[0;32m    100\u001b[0m                 \u001b[0mproducts\u001b[0m\u001b[1;33m.\u001b[0m \u001b[0mDefaults\u001b[0m \u001b[0mto\u001b[0m\u001b[0;31m \u001b[0m\u001b[0;31m`\u001b[0m\u001b[0;31m`\u001b[0m\u001b[1;32mFalse\u001b[0m\u001b[0;31m`\u001b[0m\u001b[0;31m`\u001b[0m\u001b[1;33m.\u001b[0m\u001b[1;33m\u001b[0m\u001b[1;33m\u001b[0m\u001b[0m\n\u001b[0;32m    101\u001b[0m         \"\"\"\n\u001b[1;32m--> 102\u001b[1;33m         \u001b[0mtorch\u001b[0m\u001b[1;33m.\u001b[0m\u001b[0mautograd\u001b[0m\u001b[1;33m.\u001b[0m\u001b[0mbackward\u001b[0m\u001b[1;33m(\u001b[0m\u001b[0mself\u001b[0m\u001b[1;33m,\u001b[0m \u001b[0mgradient\u001b[0m\u001b[1;33m,\u001b[0m \u001b[0mretain_graph\u001b[0m\u001b[1;33m,\u001b[0m \u001b[0mcreate_graph\u001b[0m\u001b[1;33m)\u001b[0m\u001b[1;33m\u001b[0m\u001b[1;33m\u001b[0m\u001b[0m\n\u001b[0m\u001b[0;32m    103\u001b[0m \u001b[1;33m\u001b[0m\u001b[0m\n\u001b[0;32m    104\u001b[0m     \u001b[1;32mdef\u001b[0m \u001b[0mregister_hook\u001b[0m\u001b[1;33m(\u001b[0m\u001b[0mself\u001b[0m\u001b[1;33m,\u001b[0m \u001b[0mhook\u001b[0m\u001b[1;33m)\u001b[0m\u001b[1;33m:\u001b[0m\u001b[1;33m\u001b[0m\u001b[1;33m\u001b[0m\u001b[0m\n",
      "\u001b[1;32m~\\Anaconda3\\lib\\site-packages\\torch\\autograd\\__init__.py\u001b[0m in \u001b[0;36mbackward\u001b[1;34m(tensors, grad_tensors, retain_graph, create_graph, grad_variables)\u001b[0m\n\u001b[0;32m     88\u001b[0m     Variable._execution_engine.run_backward(\n\u001b[0;32m     89\u001b[0m         \u001b[0mtensors\u001b[0m\u001b[1;33m,\u001b[0m \u001b[0mgrad_tensors\u001b[0m\u001b[1;33m,\u001b[0m \u001b[0mretain_graph\u001b[0m\u001b[1;33m,\u001b[0m \u001b[0mcreate_graph\u001b[0m\u001b[1;33m,\u001b[0m\u001b[1;33m\u001b[0m\u001b[1;33m\u001b[0m\u001b[0m\n\u001b[1;32m---> 90\u001b[1;33m         allow_unreachable=True)  # allow_unreachable flag\n\u001b[0m\u001b[0;32m     91\u001b[0m \u001b[1;33m\u001b[0m\u001b[0m\n\u001b[0;32m     92\u001b[0m \u001b[1;33m\u001b[0m\u001b[0m\n",
      "\u001b[1;31mKeyboardInterrupt\u001b[0m: "
     ]
    }
   ],
   "source": [
    "model.to(device)\n",
    "log_every_batches = 1\n",
    "log_every_epochs = 1\n",
    "num_epochs = 10\n",
    "train_losses = []\n",
    "train_accuracies = []\n",
    "val_accuracies = []\n",
    "train_size = 1000\n",
    "val_size = 10000\n",
    "val_losses = []\n",
    "loss_fn = CrossEntropyLoss()\n",
    "optimizer = Adam(model.parameters(),lr=1e-3)\n",
    "number_of_train_batches = len(mnist_train_loader)\n",
    "for epoch in range(num_epochs):\n",
    "    batch_losses = []\n",
    "    num_correct = 0\n",
    "    model.train()\n",
    "    for i, data in enumerate(mnist_train_loader,0):\n",
    "        samples, targets = data\n",
    "        samples, targets = samples.to(device), targets.to(device)\n",
    "        optimizer.zero_grad()\n",
    "        scores = model.forward(samples)\n",
    "        loss = loss_fn(scores, targets)\n",
    "        loss.backward()\n",
    "        optimizer.step()\n",
    "        batch_losses.append(loss.item())\n",
    "        y = softmax(scores, dim =1)\n",
    "        y = torch.argmax(y,dim=1)\n",
    "        num_correct += np.sum(y.cpu().numpy()==targets.cpu().numpy())\n",
    "#         if (i+1) % log_every_batches ==0:\n",
    "#             print(\"Epoch {0:d}, Batch {1:d}/{2:d}\\nTraining Loss {3:.4f}\".format(\n",
    "#                 epoch+1,i+1,number_of_train_batches,loss.item()))\n",
    "    epoch_loss = np.mean(batch_losses)\n",
    "    train_losses.append(epoch_loss)\n",
    "    epoch_accuracy = num_correct/train_size\n",
    "    train_accuracies.append(epoch_accuracy)\n",
    "    if (epoch+1) % log_every_epochs ==0:\n",
    "        print(\"Epoch {0:d}; Training Loss {1:.4f}; Training Accuracy {2:.4f}\".format(epoch+1,\n",
    "                                                                                     epoch_loss,\n",
    "                                                                                     epoch_accuracy))\n",
    "#     num_correct = 0\n",
    "#     model.eval()\n",
    "#     for i, data in enumerate(mnist_val_loader,0):\n",
    "#         batch_losses = []\n",
    "        \n",
    "#         samples, targets = data\n",
    "#         samples, targets = samples.to(device), targets.to(device)\n",
    "#         scores = model(samples)\n",
    "#         loss = loss_fn(scores, targets)\n",
    "#         batch_losses.append(loss.item())\n",
    "#         y = softmax(scores,dim=1)\n",
    "#         y = torch.argmax(y,dim=1)\n",
    "#         num_correct += np.sum(y.cpu().numpy()==targets.cpu().numpy())\n",
    "#     val_loss = np.mean(batch_losses)\n",
    "#     val_losses.append(val_loss)\n",
    "#     val_accuracy = num_correct/val_size\n",
    "#     val_accuracies.append(val_accuracy)\n",
    "#     if (epoch +1) % log_every_epochs ==0:\n",
    "#         print(\"Epoch {0:d}; Validation Loss {1:.4f}; Validation Accuracy {2:.4f}\".format(epoch+1,\n",
    "#                                                                                          val_loss,\n",
    "#                                                                                          val_accuracy))\n",
    "            \n",
    "            \n",
    "\n",
    "#%%\n",
    "\n",
    "plt.plot(np.arange(len(train_losses)),train_losses)\n",
    "plt.plot(np.arange(len(val_losses)),val_losses)\n",
    "plt.show()"
   ]
  },
  {
   "cell_type": "code",
   "execution_count": null,
   "metadata": {},
   "outputs": [],
   "source": []
  }
 ],
 "metadata": {
  "kernelspec": {
   "display_name": "Python 3",
   "language": "python",
   "name": "python3"
  },
  "language_info": {
   "codemirror_mode": {
    "name": "ipython",
    "version": 3
   },
   "file_extension": ".py",
   "mimetype": "text/x-python",
   "name": "python",
   "nbconvert_exporter": "python",
   "pygments_lexer": "ipython3",
   "version": "3.7.3"
  },
  "pycharm": {
   "stem_cell": {
    "cell_type": "raw",
    "metadata": {
     "collapsed": false
    },
    "source": []
   }
  }
 },
 "nbformat": 4,
 "nbformat_minor": 1
}
